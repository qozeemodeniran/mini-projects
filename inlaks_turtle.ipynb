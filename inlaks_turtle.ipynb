{
 "cells": [
  {
   "cell_type": "code",
   "execution_count": 1,
   "metadata": {},
   "outputs": [],
   "source": [
    "import turtle\n",
    "wn  = turtle.Screen()\n",
    "\n",
    "inlaks = turtle.Turtle()\n",
    "inlaks.pencolor('red')\n",
    "\n",
    "inlaks.right(90)\n",
    "inlaks.forward(30)\n",
    "\n",
    "inlaks.rt(90)\n",
    "inlaks.forward(200)\n",
    "\n",
    "inlaks.rt(90)\n",
    "inlaks.forward(200)\n",
    "\n",
    "inlaks.rt(90)\n",
    "inlaks.fd(30)\n",
    "inlaks.bk(30)\n",
    "\n",
    "inlaks.lt(270)\n",
    "inlaks.forward(200)\n",
    "\n",
    "inlaks.lt(135)\n",
    "inlaks.forward(280)\n",
    "\n",
    "inlaks.lt(135)\n",
    "inlaks.fd(150)\n",
    "\n",
    "inlaks.rt(180)\n",
    "inlaks.fd(150)\n",
    "\n",
    "inlaks.rt(90)\n",
    "inlaks.fd(150)\n",
    "\n",
    "inlaks.write(\"INLAKS...own Tomorrow\")\n"
   ]
  },
  {
   "cell_type": "code",
   "execution_count": null,
   "metadata": {},
   "outputs": [],
   "source": []
  }
 ],
 "metadata": {
  "kernelspec": {
   "display_name": "Python 3",
   "language": "python",
   "name": "python3"
  },
  "language_info": {
   "codemirror_mode": {
    "name": "ipython",
    "version": 3
   },
   "file_extension": ".py",
   "mimetype": "text/x-python",
   "name": "python",
   "nbconvert_exporter": "python",
   "pygments_lexer": "ipython3",
   "version": "3.7.1"
  }
 },
 "nbformat": 4,
 "nbformat_minor": 2
}
