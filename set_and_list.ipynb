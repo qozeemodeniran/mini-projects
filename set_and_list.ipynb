{
 "cells": [
  {
   "cell_type": "code",
   "execution_count": 1,
   "metadata": {},
   "outputs": [
    {
     "name": "stdout",
     "output_type": "stream",
     "text": [
      "Sum is not the same\n"
     ]
    }
   ],
   "source": [
    "\n",
    "\n",
    "A = [1,2,2,1]\n",
    "\n",
    "B = set([1,2,2,1])\n",
    "\n",
    "if sum(A) is sum(B):\n",
    "    print('Sum is the same')\n",
    "else:\n",
    "    print('Sum is not the same')\n",
    "    \n"
   ]
  },
  {
   "cell_type": "code",
   "execution_count": null,
   "metadata": {},
   "outputs": [],
   "source": []
  }
 ],
 "metadata": {
  "kernelspec": {
   "display_name": "Python 3",
   "language": "python",
   "name": "python3"
  },
  "language_info": {
   "codemirror_mode": {
    "name": "ipython",
    "version": 3
   },
   "file_extension": ".py",
   "mimetype": "text/x-python",
   "name": "python",
   "nbconvert_exporter": "python",
   "pygments_lexer": "ipython3",
   "version": "3.7.1"
  }
 },
 "nbformat": 4,
 "nbformat_minor": 2
}
